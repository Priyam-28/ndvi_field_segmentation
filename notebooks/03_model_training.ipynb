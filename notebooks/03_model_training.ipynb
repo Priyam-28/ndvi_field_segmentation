{
 "cells": [
  {
   "cell_type": "code",
   "execution_count": null,
   "metadata": {},
   "outputs": [],
   "source": [
    "# Import libraries\n",
    "import tensorflow as tf\n",
    "from sklearn.ensemble import RandomForestRegressor\n",
    "import numpy as np\n",
    "\n",
    "# Load NDVI data (replace with your data)\n",
    "ndvi_data = np.load('data/processed/ndvi_data.npy')\n",
    "labels = np.load('data/processed/labels.npy')\n",
    "\n",
    "# Train U-Net model (example)\n",
    "def unet_model(input_size=(256, 256, 1)):\n",
    "    inputs = tf.keras.Input(input_size)\n",
    "    # Add U-Net layers here\n",
    "    outputs = tf.keras.layers.Conv2D(1, 1, activation='sigmoid')(inputs)\n",
    "    return tf.keras.Model(inputs=inputs, outputs=outputs)\n",
    "\n",
    "model = unet_model()\n",
    "model.compile(optimizer='adam', loss='binary_crossentropy', metrics=['accuracy'])\n",
    "model.fit(ndvi_data, labels, epochs=10, batch_size=8)\n",
    "\n",
    "# Train Random Forest model\n",
    "rf_model = RandomForestRegressor(n_estimators=100)\n",
    "rf_model.fit(ndvi_data.reshape(-1, 256*256), labels)"
   ]
  }
 ],
 "metadata": {
  "language_info": {
   "name": "python"
  }
 },
 "nbformat": 4,
 "nbformat_minor": 2
}
