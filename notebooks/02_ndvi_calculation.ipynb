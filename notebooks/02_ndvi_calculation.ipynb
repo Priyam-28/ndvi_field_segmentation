{
 "cells": [
  {
   "cell_type": "code",
   "execution_count": 1,
   "metadata": {},
   "outputs": [
    {
     "name": "stdout",
     "output_type": "stream",
     "text": [
      "Requirement already satisfied: earthengine-api in c:\\users\\priyam\\appdata\\local\\programs\\python\\python312\\lib\\site-packages (1.5.3)\n",
      "Collecting geopandas\n",
      "  Using cached geopandas-1.0.1-py3-none-any.whl.metadata (2.2 kB)\n",
      "Collecting rasterio\n",
      "  Using cached rasterio-1.4.3-cp312-cp312-win_amd64.whl.metadata (9.4 kB)\n",
      "Collecting folium\n",
      "  Using cached folium-0.19.4-py2.py3-none-any.whl.metadata (3.8 kB)\n",
      "Requirement already satisfied: google-cloud-storage in c:\\users\\priyam\\appdata\\local\\programs\\python\\python312\\lib\\site-packages (from earthengine-api) (3.0.0)\n",
      "Requirement already satisfied: google-api-python-client>=1.12.1 in c:\\users\\priyam\\appdata\\local\\programs\\python\\python312\\lib\\site-packages (from earthengine-api) (2.161.0)\n",
      "Requirement already satisfied: google-auth>=1.4.1 in c:\\users\\priyam\\appdata\\local\\programs\\python\\python312\\lib\\site-packages (from earthengine-api) (2.38.0)\n",
      "Requirement already satisfied: google-auth-httplib2>=0.0.3 in c:\\users\\priyam\\appdata\\local\\programs\\python\\python312\\lib\\site-packages (from earthengine-api) (0.2.0)\n",
      "Requirement already satisfied: httplib2<1dev,>=0.9.2 in c:\\users\\priyam\\appdata\\local\\programs\\python\\python312\\lib\\site-packages (from earthengine-api) (0.22.0)\n",
      "Requirement already satisfied: requests in c:\\users\\priyam\\appdata\\local\\programs\\python\\python312\\lib\\site-packages (from earthengine-api) (2.32.3)\n",
      "Requirement already satisfied: numpy>=1.22 in c:\\users\\priyam\\appdata\\local\\programs\\python\\python312\\lib\\site-packages (from geopandas) (2.1.1)\n",
      "Collecting pyogrio>=0.7.2 (from geopandas)\n",
      "  Using cached pyogrio-0.10.0-cp312-cp312-win_amd64.whl.metadata (5.6 kB)\n",
      "Requirement already satisfied: packaging in c:\\users\\priyam\\appdata\\local\\programs\\python\\python312\\lib\\site-packages (from geopandas) (24.1)\n",
      "Requirement already satisfied: pandas>=1.4.0 in c:\\users\\priyam\\appdata\\local\\programs\\python\\python312\\lib\\site-packages (from geopandas) (2.2.3)\n",
      "Collecting pyproj>=3.3.0 (from geopandas)\n",
      "  Using cached pyproj-3.7.1-cp312-cp312-win_amd64.whl.metadata (31 kB)\n",
      "Collecting shapely>=2.0.0 (from geopandas)\n",
      "  Using cached shapely-2.0.7-cp312-cp312-win_amd64.whl.metadata (7.1 kB)\n",
      "Collecting affine (from rasterio)\n",
      "  Using cached affine-2.4.0-py3-none-any.whl.metadata (4.0 kB)\n",
      "Requirement already satisfied: attrs in c:\\users\\priyam\\appdata\\local\\programs\\python\\python312\\lib\\site-packages (from rasterio) (24.2.0)\n",
      "Requirement already satisfied: certifi in c:\\users\\priyam\\appdata\\local\\programs\\python\\python312\\lib\\site-packages (from rasterio) (2024.12.14)\n",
      "Requirement already satisfied: click>=4.0 in c:\\users\\priyam\\appdata\\local\\programs\\python\\python312\\lib\\site-packages (from rasterio) (8.1.7)\n",
      "Collecting cligj>=0.5 (from rasterio)\n",
      "  Using cached cligj-0.7.2-py3-none-any.whl.metadata (5.0 kB)\n",
      "Collecting click-plugins (from rasterio)\n",
      "  Using cached click_plugins-1.1.1-py2.py3-none-any.whl.metadata (6.4 kB)\n",
      "Requirement already satisfied: pyparsing in c:\\users\\priyam\\appdata\\local\\programs\\python\\python312\\lib\\site-packages (from rasterio) (3.1.4)\n",
      "Collecting branca>=0.6.0 (from folium)\n",
      "  Using cached branca-0.8.1-py3-none-any.whl.metadata (1.5 kB)\n",
      "Requirement already satisfied: jinja2>=2.9 in c:\\users\\priyam\\appdata\\local\\programs\\python\\python312\\lib\\site-packages (from folium) (3.1.4)\n",
      "Collecting xyzservices (from folium)\n",
      "  Using cached xyzservices-2025.1.0-py3-none-any.whl.metadata (4.3 kB)\n",
      "Requirement already satisfied: colorama in c:\\users\\priyam\\appdata\\local\\programs\\python\\python312\\lib\\site-packages (from click>=4.0->rasterio) (0.4.6)\n",
      "Requirement already satisfied: google-api-core!=2.0.*,!=2.1.*,!=2.2.*,!=2.3.0,<3.0.0.dev0,>=1.31.5 in c:\\users\\priyam\\appdata\\local\\programs\\python\\python312\\lib\\site-packages (from google-api-python-client>=1.12.1->earthengine-api) (2.24.1)\n",
      "Requirement already satisfied: uritemplate<5,>=3.0.1 in c:\\users\\priyam\\appdata\\local\\programs\\python\\python312\\lib\\site-packages (from google-api-python-client>=1.12.1->earthengine-api) (4.1.1)\n",
      "Requirement already satisfied: cachetools<6.0,>=2.0.0 in c:\\users\\priyam\\appdata\\local\\programs\\python\\python312\\lib\\site-packages (from google-auth>=1.4.1->earthengine-api) (5.5.0)\n",
      "Requirement already satisfied: pyasn1-modules>=0.2.1 in c:\\users\\priyam\\appdata\\local\\programs\\python\\python312\\lib\\site-packages (from google-auth>=1.4.1->earthengine-api) (0.4.1)\n",
      "Requirement already satisfied: rsa<5,>=3.1.4 in c:\\users\\priyam\\appdata\\local\\programs\\python\\python312\\lib\\site-packages (from google-auth>=1.4.1->earthengine-api) (4.9)\n",
      "Requirement already satisfied: MarkupSafe>=2.0 in c:\\users\\priyam\\appdata\\local\\programs\\python\\python312\\lib\\site-packages (from jinja2>=2.9->folium) (2.1.5)\n",
      "Requirement already satisfied: python-dateutil>=2.8.2 in c:\\users\\priyam\\appdata\\local\\programs\\python\\python312\\lib\\site-packages (from pandas>=1.4.0->geopandas) (2.9.0.post0)\n",
      "Requirement already satisfied: pytz>=2020.1 in c:\\users\\priyam\\appdata\\local\\programs\\python\\python312\\lib\\site-packages (from pandas>=1.4.0->geopandas) (2024.2)\n",
      "Requirement already satisfied: tzdata>=2022.7 in c:\\users\\priyam\\appdata\\local\\programs\\python\\python312\\lib\\site-packages (from pandas>=1.4.0->geopandas) (2024.2)\n",
      "Requirement already satisfied: google-cloud-core<3.0dev,>=2.3.0 in c:\\users\\priyam\\appdata\\local\\programs\\python\\python312\\lib\\site-packages (from google-cloud-storage->earthengine-api) (2.4.2)\n",
      "Requirement already satisfied: google-resumable-media>=2.7.2 in c:\\users\\priyam\\appdata\\local\\programs\\python\\python312\\lib\\site-packages (from google-cloud-storage->earthengine-api) (2.7.2)\n",
      "Requirement already satisfied: google-crc32c<2.0dev,>=1.0 in c:\\users\\priyam\\appdata\\local\\programs\\python\\python312\\lib\\site-packages (from google-cloud-storage->earthengine-api) (1.6.0)\n",
      "Requirement already satisfied: charset-normalizer<4,>=2 in c:\\users\\priyam\\appdata\\local\\programs\\python\\python312\\lib\\site-packages (from requests->earthengine-api) (3.4.0)\n",
      "Requirement already satisfied: idna<4,>=2.5 in c:\\users\\priyam\\appdata\\local\\programs\\python\\python312\\lib\\site-packages (from requests->earthengine-api) (3.10)\n",
      "Requirement already satisfied: urllib3<3,>=1.21.1 in c:\\users\\priyam\\appdata\\local\\programs\\python\\python312\\lib\\site-packages (from requests->earthengine-api) (2.2.3)\n",
      "Requirement already satisfied: googleapis-common-protos<2.0.dev0,>=1.56.2 in c:\\users\\priyam\\appdata\\local\\programs\\python\\python312\\lib\\site-packages (from google-api-core!=2.0.*,!=2.1.*,!=2.2.*,!=2.3.0,<3.0.0.dev0,>=1.31.5->google-api-python-client>=1.12.1->earthengine-api) (1.68.0)\n",
      "Requirement already satisfied: protobuf!=3.20.0,!=3.20.1,!=4.21.0,!=4.21.1,!=4.21.2,!=4.21.3,!=4.21.4,!=4.21.5,<6.0.0.dev0,>=3.19.5 in c:\\users\\priyam\\appdata\\local\\programs\\python\\python312\\lib\\site-packages (from google-api-core!=2.0.*,!=2.1.*,!=2.2.*,!=2.3.0,<3.0.0.dev0,>=1.31.5->google-api-python-client>=1.12.1->earthengine-api) (4.25.4)\n",
      "Requirement already satisfied: proto-plus<2.0.0dev,>=1.22.3 in c:\\users\\priyam\\appdata\\local\\programs\\python\\python312\\lib\\site-packages (from google-api-core!=2.0.*,!=2.1.*,!=2.2.*,!=2.3.0,<3.0.0.dev0,>=1.31.5->google-api-python-client>=1.12.1->earthengine-api) (1.26.0)\n",
      "Requirement already satisfied: pyasn1<0.7.0,>=0.4.6 in c:\\users\\priyam\\appdata\\local\\programs\\python\\python312\\lib\\site-packages (from pyasn1-modules>=0.2.1->google-auth>=1.4.1->earthengine-api) (0.6.1)\n",
      "Requirement already satisfied: six>=1.5 in c:\\users\\priyam\\appdata\\local\\programs\\python\\python312\\lib\\site-packages (from python-dateutil>=2.8.2->pandas>=1.4.0->geopandas) (1.16.0)\n",
      "Using cached geopandas-1.0.1-py3-none-any.whl (323 kB)\n",
      "Using cached rasterio-1.4.3-cp312-cp312-win_amd64.whl (25.4 MB)\n",
      "Using cached folium-0.19.4-py2.py3-none-any.whl (110 kB)\n",
      "Using cached branca-0.8.1-py3-none-any.whl (26 kB)\n",
      "Using cached cligj-0.7.2-py3-none-any.whl (7.1 kB)\n",
      "Using cached pyogrio-0.10.0-cp312-cp312-win_amd64.whl (16.2 MB)\n",
      "Using cached pyproj-3.7.1-cp312-cp312-win_amd64.whl (6.3 MB)\n",
      "Using cached shapely-2.0.7-cp312-cp312-win_amd64.whl (1.4 MB)\n",
      "Using cached affine-2.4.0-py3-none-any.whl (15 kB)\n",
      "Using cached click_plugins-1.1.1-py2.py3-none-any.whl (7.5 kB)\n",
      "Using cached xyzservices-2025.1.0-py3-none-any.whl (88 kB)\n",
      "Installing collected packages: xyzservices, shapely, pyproj, pyogrio, affine, cligj, click-plugins, branca, rasterio, geopandas, folium\n",
      "Successfully installed affine-2.4.0 branca-0.8.1 click-plugins-1.1.1 cligj-0.7.2 folium-0.19.4 geopandas-1.0.1 pyogrio-0.10.0 pyproj-3.7.1 rasterio-1.4.3 shapely-2.0.7 xyzservices-2025.1.0\n"
     ]
    },
    {
     "name": "stderr",
     "output_type": "stream",
     "text": [
      "\n",
      "[notice] A new release of pip is available: 24.3.1 -> 25.0.1\n",
      "[notice] To update, run: python.exe -m pip install --upgrade pip\n"
     ]
    }
   ],
   "source": [
    "!pip install earthengine-api geopandas rasterio folium\n"
   ]
  },
  {
   "cell_type": "code",
   "execution_count": 3,
   "metadata": {},
   "outputs": [
    {
     "name": "stdout",
     "output_type": "stream",
     "text": [
      "{'state': 'READY', 'description': 'NDVI_Punjab_2023', 'priority': 100, 'creation_timestamp_ms': 1740221543327, 'update_timestamp_ms': 1740221543327, 'start_timestamp_ms': 0, 'task_type': 'EXPORT_IMAGE', 'id': 'JDX5S4PV5M35I36SM7FLHRTK', 'name': 'projects/730570924758/operations/JDX5S4PV5M35I36SM7FLHRTK'}\n"
     ]
    }
   ],
   "source": [
    "# Import packages\n",
    "import ee\n",
    "import rasterio\n",
    "from rasterio.plot import show\n",
    "import matplotlib.pyplot as plt\n",
    "\n",
    "# Authenticate and initialize GEE\n",
    "ee.Authenticate()\n",
    "ee.Initialize()\n",
    "\n",
    "# Define ROI for Punjab, India\n",
    "roi = ee.Geometry.Rectangle([74.5, 29.5, 76.5, 31.5])\n",
    "\n",
    "# Load Sentinel-2 collection\n",
    "collection = ee.ImageCollection('COPERNICUS/S2_HARMONIZED') \\\n",
    "    .filterBounds(roi) \\\n",
    "    .filterDate('2023-01-01', '2023-03-31') \\\n",
    "    .filter(ee.Filter.lt('CLOUDY_PIXEL_PERCENTAGE', 20))\n",
    "\n",
    "# Apply cloud masking\n",
    "def mask_clouds(image):\n",
    "    qa = image.select('QA60')\n",
    "    cloud_mask = qa.bitwiseAnd(1 << 10).eq(0)\n",
    "    return image.updateMask(cloud_mask)\n",
    "\n",
    "collection = collection.map(mask_clouds)\n",
    "\n",
    "# Calculate NDVI\n",
    "def calculate_ndvi(image):\n",
    "    nir = image.select('B8')  # Near-Infrared band\n",
    "    red = image.select('B4')  # Red band\n",
    "    ndvi = nir.subtract(red).divide(nir.add(red)).rename('NDVI')  # NDVI formula\n",
    "    return image.addBands(ndvi)\n",
    "\n",
    "ndvi_collection = collection.map(calculate_ndvi)\n",
    "\n",
    "# Export NDVI image (median composite)\n",
    "task = ee.batch.Export.image.toDrive(\n",
    "    image=ndvi_collection.median(),  # Median composite of the collection\n",
    "    description='NDVI_Punjab_2023',\n",
    "    scale=10,  # 10m resolution\n",
    "    region=roi,\n",
    "    fileFormat='GeoTIFF',\n",
    "    maxPixels=1e13\n",
    ")\n",
    "\n",
    "# Start the export task\n",
    "task.start()\n",
    "\n",
    "# Check task status\n",
    "print(task.status())"
   ]
  }
 ],
 "metadata": {
  "kernelspec": {
   "display_name": "Python 3",
   "language": "python",
   "name": "python3"
  },
  "language_info": {
   "codemirror_mode": {
    "name": "ipython",
    "version": 3
   },
   "file_extension": ".py",
   "mimetype": "text/x-python",
   "name": "python",
   "nbconvert_exporter": "python",
   "pygments_lexer": "ipython3",
   "version": "3.12.5"
  }
 },
 "nbformat": 4,
 "nbformat_minor": 2
}
